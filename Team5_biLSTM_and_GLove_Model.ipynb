{
 "cells": [
  {
   "cell_type": "markdown",
   "id": "ff3353d9",
   "metadata": {},
   "source": [
    "# BiLSTM + GLove Model for tweet prediction"
   ]
  },
  {
   "cell_type": "markdown",
   "id": "db0cdb36",
   "metadata": {},
   "source": [
    "### Import Modules"
   ]
  },
  {
   "cell_type": "code",
   "execution_count": 1,
   "id": "3d226f24",
   "metadata": {},
   "outputs": [],
   "source": [
    "from data import TwitterP\n",
    "import numpy as np\n",
    "from tqdm import trange"
   ]
  },
  {
   "cell_type": "code",
   "execution_count": 2,
   "id": "dc191fe1",
   "metadata": {},
   "outputs": [],
   "source": [
    "trainT, validationT, testT = TwitterP.load_data()"
   ]
  },
  {
   "cell_type": "code",
   "execution_count": 3,
   "id": "a8073421",
   "metadata": {},
   "outputs": [
    {
     "name": "stderr",
     "output_type": "stream",
     "text": [
      "C:\\Users\\Public\\Documents\\Wondershare\\CreatorTemp\\ipykernel_25596\\2501083903.py:1: FutureWarning: The frame.append method is deprecated and will be removed from pandas in a future version. Use pandas.concat instead.\n",
      "  df=trainT.append(validationT)\n",
      "C:\\Users\\Public\\Documents\\Wondershare\\CreatorTemp\\ipykernel_25596\\2501083903.py:2: FutureWarning: The frame.append method is deprecated and will be removed from pandas in a future version. Use pandas.concat instead.\n",
      "  df=df.append(testT)\n"
     ]
    }
   ],
   "source": [
    "df=trainT.append(validationT)\n",
    "df=df.append(testT)"
   ]
  },
  {
   "cell_type": "code",
   "execution_count": 4,
   "id": "b4ca5775",
   "metadata": {},
   "outputs": [
    {
     "name": "stderr",
     "output_type": "stream",
     "text": [
      "100%|█████████████████████████████████████████████████████████████████████████████| 2330/2330 [00:16<00:00, 137.46it/s]\n"
     ]
    }
   ],
   "source": [
    "Negative_tweets=[]\n",
    "Positive_tweets=[]\n",
    "n_private=0\n",
    "for i in trange(1,len(df)):\n",
    "    timeline, retval = TwitterP.get_username_profile(df['username'].iloc[i])\n",
    "    if(retval == 0):\n",
    "        continue\n",
    "    if df[\"Positive\"][i]==1:\n",
    "        if (timeline.empty):\n",
    "            n_private+=1\n",
    "        else:\n",
    "            Positive_tweets=np.append(Positive_tweets,timeline.tweet)\n",
    "    if df[\"Negative\"][i]==1:\n",
    "        if (timeline.empty):\n",
    "            n_private+=1\n",
    "        else:\n",
    "            Negative_tweets=np.append(Negative_tweets,timeline.tweet)"
   ]
  },
  {
   "cell_type": "code",
   "execution_count": 5,
   "id": "c0dcdfb1",
   "metadata": {},
   "outputs": [],
   "source": [
    "PL = [1] * len(Positive_tweets) \n",
    "NL = [0] * len(Negative_tweets) "
   ]
  },
  {
   "cell_type": "code",
   "execution_count": 6,
   "id": "dd19e585",
   "metadata": {},
   "outputs": [
    {
     "data": {
      "text/plain": [
       "(28346, 15451)"
      ]
     },
     "execution_count": 6,
     "metadata": {},
     "output_type": "execute_result"
    }
   ],
   "source": [
    "len(Positive_tweets), len(Negative_tweets) "
   ]
  },
  {
   "cell_type": "code",
   "execution_count": 7,
   "id": "b82ccfd0",
   "metadata": {},
   "outputs": [],
   "source": [
    "x=np.append(Positive_tweets[10001:15000],Negative_tweets[10001:15000])\n",
    "y=np.append(PL[10001:15000],NL[10001:15000])"
   ]
  },
  {
   "cell_type": "code",
   "execution_count": 8,
   "id": "20afa049",
   "metadata": {},
   "outputs": [],
   "source": [
    "indices = np.arange(x.shape[0])\n",
    "np.random.shuffle(indices)\n",
    "x = x[indices]\n",
    "y = y[indices]"
   ]
  },
  {
   "cell_type": "code",
   "execution_count": 9,
   "id": "fad57aea",
   "metadata": {},
   "outputs": [],
   "source": [
    "import pandas as pd \n",
    "d = {'Tweet':x,'label':y}\n",
    "df = pd.DataFrame(d)"
   ]
  },
  {
   "cell_type": "code",
   "execution_count": 10,
   "id": "9594926f",
   "metadata": {},
   "outputs": [],
   "source": [
    "df.to_csv('test_data.csv', index=False)"
   ]
  },
  {
   "cell_type": "code",
   "execution_count": 11,
   "id": "0b5f1be2",
   "metadata": {},
   "outputs": [],
   "source": [
    "x=np.append(Positive_tweets[0:10000],Negative_tweets[0:10000])\n",
    "y=np.append(PL[0:10000],NL[0:10000])"
   ]
  },
  {
   "cell_type": "code",
   "execution_count": 12,
   "id": "7c731ed7",
   "metadata": {},
   "outputs": [
    {
     "name": "stdout",
     "output_type": "stream",
     "text": [
      "Found 400000 word vectors.\n"
     ]
    }
   ],
   "source": [
    "import os\n",
    "import numpy as np\n",
    "\n",
    "# using predefined embeddings from txt file\n",
    "embeddings_index = {}\n",
    "with open('glove.6B.100d.txt', encoding=\"utf8\") as f:\n",
    "    for line in f:\n",
    "        values = line.split()\n",
    "        word = values[0]\n",
    "        coefs = np.asarray(values[1:], dtype='float32')\n",
    "        embeddings_index[word] = coefs\n",
    "\n",
    "print(\"Found {} word vectors.\".format(len(embeddings_index)))"
   ]
  },
  {
   "cell_type": "code",
   "execution_count": 13,
   "id": "914aaae3",
   "metadata": {},
   "outputs": [
    {
     "data": {
      "text/plain": [
       "array([-0.067077,  0.34271 ,  0.31389 ,  0.45675 , -1.0441  , -0.30359 ,\n",
       "       -0.72071 ,  0.024742,  1.0052  , -0.30277 , -0.61816 ,  0.1482  ,\n",
       "        0.55835 , -0.74295 ,  0.10714 ,  0.22635 , -0.99951 , -0.54721 ,\n",
       "        0.73511 ,  0.40552 ,  0.71583 ,  0.37093 ,  0.017737,  0.56344 ,\n",
       "       -0.086712, -0.19697 ,  0.16806 , -0.67181 , -0.16957 ,  1.233   ,\n",
       "        0.40425 ,  0.39286 ,  0.09856 , -0.39293 , -0.56219 ,  0.25364 ,\n",
       "        0.19299 ,  0.17292 ,  0.40808 , -0.32074 , -0.082906, -0.59409 ,\n",
       "        0.10728 , -0.28854 ,  0.11224 ,  0.30465 ,  0.75957 ,  0.91237 ,\n",
       "        0.54494 , -0.89268 , -0.66143 , -0.24641 ,  0.053331,  0.20658 ,\n",
       "       -0.021297, -0.97389 ,  0.55199 , -0.34674 ,  0.58749 , -0.023662,\n",
       "        0.55734 ,  0.55996 , -0.63015 , -0.15025 , -0.15092 ,  0.11918 ,\n",
       "        1.0616  , -0.29991 ,  0.38754 , -0.48744 ,  0.29452 , -0.42888 ,\n",
       "       -0.031931,  0.49391 ,  0.31056 ,  0.18853 ,  0.28281 ,  0.1583  ,\n",
       "        0.046716, -0.66058 ,  0.055853,  0.95369 , -1.4047  ,  0.47653 ,\n",
       "       -0.98774 , -0.86063 , -0.29713 , -0.17217 , -1.1155  , -0.60824 ,\n",
       "       -0.37497 ,  0.23848 ,  0.46777 ,  0.099564, -0.41541 ,  0.97339 ,\n",
       "        0.28276 ,  0.12338 , -0.323   , -0.69511 ], dtype=float32)"
      ]
     },
     "execution_count": 13,
     "metadata": {},
     "output_type": "execute_result"
    }
   ],
   "source": [
    "embeddings_index[\"depressed\"]"
   ]
  },
  {
   "cell_type": "code",
   "execution_count": 14,
   "id": "4c9329e6",
   "metadata": {},
   "outputs": [],
   "source": [
    "import sys\n",
    "\n",
    "from tensorflow.keras.preprocessing.text import Tokenizer\n",
    "from tensorflow.keras.preprocessing.sequence import pad_sequences\n",
    "from tensorflow.keras.utils import to_categorical\n",
    "from tensorflow.keras.layers import Dense, Input, LSTM, Embedding, Bidirectional, Dropout\n",
    "from tensorflow.keras.models import Model\n",
    "from tensorflow.keras.initializers import Constant"
   ]
  },
  {
   "cell_type": "code",
   "execution_count": 15,
   "id": "883ae8a1",
   "metadata": {},
   "outputs": [],
   "source": [
    "# Setting some parameters\n",
    "\n",
    "MAX_SEQUENCE_LENGTH = 200 # determines how many words of every tweet will be processed\n",
    "# if the tweet length is smaller than this, the tweet will be padded until it has a length equivalent to this\n",
    "\n",
    "MAX_NUM_WORDS = 70000 # how many unique words in the training text to be tokenised\n",
    "EMBEDDING_DIM = 100 # number of dimensions in the word embeddings\n",
    "TRAINING_SPLIT = 0.8 # proportion of data to be used to training"
   ]
  },
  {
   "cell_type": "code",
   "execution_count": 16,
   "id": "8d240141",
   "metadata": {},
   "outputs": [
    {
     "name": "stdout",
     "output_type": "stream",
     "text": [
      "54729 distinct words in original text\n"
     ]
    }
   ],
   "source": [
    "#converting strings to sequences for processing\n",
    "tokenizer = Tokenizer(num_words=MAX_NUM_WORDS)\n",
    "tokenizer.fit_on_texts(x)\n",
    "sequences = tokenizer.texts_to_sequences(x)\n",
    "word_index = tokenizer.word_index\n",
    "\n",
    "print(\"{} distinct words in original text\".format(len(word_index)))"
   ]
  },
  {
   "cell_type": "code",
   "execution_count": 17,
   "id": "c660c999",
   "metadata": {},
   "outputs": [
    {
     "data": {
      "text/plain": [
       "74"
      ]
     },
     "execution_count": 17,
     "metadata": {},
     "output_type": "execute_result"
    },
    {
     "data": {
      "image/png": "[encoded data removed]",
      "text/plain": [
       "<Figure size 640x480 with 1 Axes>"
      ]
     },
     "metadata": {},
     "output_type": "display_data"
    }
   ],
   "source": [
    "#visualizing vector sequences graphically\n",
    "\n",
    "import matplotlib.pyplot as plt\n",
    "%matplotlib inline\n",
    "seq_lengths = [len(x) for x in sequences]\n",
    "plt.plot(seq_lengths)\n",
    "max(seq_lengths)"
   ]
  },
  {
   "cell_type": "code",
   "execution_count": 18,
   "id": "90fb847f",
   "metadata": {},
   "outputs": [],
   "source": [
    "MAX_SEQUENCE_LENGTH = max(seq_lengths)\n",
    "data = pad_sequences(sequences, maxlen=MAX_SEQUENCE_LENGTH)"
   ]
  },
  {
   "cell_type": "code",
   "execution_count": 19,
   "id": "b282c32b",
   "metadata": {},
   "outputs": [
    {
     "name": "stdout",
     "output_type": "stream",
     "text": [
      "Shape of data tensor: (20000, 74)\n",
      "Shape of label tensor: (20000, 2)\n"
     ]
    }
   ],
   "source": [
    "labels = to_categorical(np.asarray(y))\n",
    "print('Shape of data tensor:', data.shape)\n",
    "print('Shape of label tensor:', labels.shape)"
   ]
  },
  {
   "cell_type": "code",
   "execution_count": 20,
   "id": "765febc8",
   "metadata": {},
   "outputs": [
    {
     "name": "stdout",
     "output_type": "stream",
     "text": [
      "74\n"
     ]
    }
   ],
   "source": [
    "print(MAX_SEQUENCE_LENGTH)"
   ]
  },
  {
   "cell_type": "code",
   "execution_count": 21,
   "id": "c9bf9491",
   "metadata": {},
   "outputs": [],
   "source": [
    "indices = np.arange(data.shape[0])\n",
    "np.random.shuffle(indices)\n",
    "data = data[indices]\n",
    "labels = labels[indices]\n",
    "\n",
    "# before splitting\n",
    "num_training_samples = int(TRAINING_SPLIT * data.shape[0])"
   ]
  },
  {
   "cell_type": "code",
   "execution_count": 22,
   "id": "a8e93e56",
   "metadata": {},
   "outputs": [],
   "source": [
    "x_train = data[:num_training_samples]\n",
    "y_train = labels[:num_training_samples]\n",
    "x_val = data[num_training_samples:]\n",
    "y_val = labels[num_training_samples:]"
   ]
  },
  {
   "cell_type": "code",
   "execution_count": 23,
   "id": "2cdf0f0a",
   "metadata": {},
   "outputs": [
    {
     "name": "stdout",
     "output_type": "stream",
     "text": [
      "[[ 0.          0.          0.         ...  0.          0.\n",
      "   0.        ]\n",
      " [-0.038194   -0.24487001  0.72812003 ... -0.1459      0.82779998\n",
      "   0.27061999]\n",
      " [ 0.13482     0.40224001 -0.42265999 ... -0.27989     0.28937\n",
      "   0.043783  ]\n",
      " ...\n",
      " [ 0.19527    -0.12515    -0.57665002 ... -0.18674999 -0.43044999\n",
      "   0.23825   ]\n",
      " [ 0.          0.          0.         ...  0.          0.\n",
      "   0.        ]\n",
      " [ 0.          0.          0.         ...  0.          0.\n",
      "   0.        ]]\n"
     ]
    }
   ],
   "source": [
    "num_words = min(MAX_NUM_WORDS, len(word_index)) + 1\n",
    "embedding_matrix = np.zeros((num_words, EMBEDDING_DIM))\n",
    "for word, i in word_index.items():\n",
    "    if i > MAX_NUM_WORDS:\n",
    "        continue\n",
    "    embedding_vector = embeddings_index.get(word)\n",
    "    if embedding_vector is not None:\n",
    "        # words not found in embedding index will be all-zeros.\n",
    "        embedding_matrix[i] = embedding_vector\n",
    "print(embedding_matrix)\n",
    "# load pre-trained word embeddings into an Embedding layer\n",
    "# we set trainable = False  to keep the embeddings fixed\n",
    "embedding_layer = Embedding(num_words,\n",
    "                            EMBEDDING_DIM,\n",
    "                            embeddings_initializer=Constant(embedding_matrix),\n",
    "                            input_length=MAX_SEQUENCE_LENGTH,\n",
    "                            trainable=False)"
   ]
  },
  {
   "cell_type": "code",
   "execution_count": 24,
   "id": "95a43b2b",
   "metadata": {},
   "outputs": [],
   "source": [
    "#setting model parameters\n",
    "\n",
    "sequence_input = Input(shape=(MAX_SEQUENCE_LENGTH,), dtype='int32')\n",
    "embedded_sequences = embedding_layer(sequence_input)\n",
    "x = Bidirectional(LSTM(256))(embedded_sequences)\n",
    "y = Dropout(0.5)(x)\n",
    "\n",
    "preds = Dense(labels.shape[1], activation='softmax')(y)\n",
    "model = Model(sequence_input, preds)"
   ]
  },
  {
   "cell_type": "code",
   "execution_count": 25,
   "id": "aa9d03c8",
   "metadata": {},
   "outputs": [
    {
     "name": "stdout",
     "output_type": "stream",
     "text": [
      "Model: \"model\"\n",
      "_________________________________________________________________\n",
      " Layer (type)                Output Shape              Param #   \n",
      "=================================================================\n",
      " input_1 (InputLayer)        [(None, 74)]              0         \n",
      "                                                                 \n",
      " embedding (Embedding)       (None, 74, 100)           5473000   \n",
      "                                                                 \n",
      " bidirectional (Bidirectiona  (None, 512)              731136    \n",
      " l)                                                              \n",
      "                                                                 \n",
      " dropout (Dropout)           (None, 512)               0         \n",
      "                                                                 \n",
      " dense (Dense)               (None, 2)                 1026      \n",
      "                                                                 \n",
      "=================================================================\n",
      "Total params: 6,205,162\n",
      "Trainable params: 732,162\n",
      "Non-trainable params: 5,473,000\n",
      "_________________________________________________________________\n"
     ]
    }
   ],
   "source": [
    "model.summary()"
   ]
  },
  {
   "cell_type": "code",
   "execution_count": 26,
   "id": "a15bd892",
   "metadata": {},
   "outputs": [],
   "source": [
    "model.compile(loss='categorical_crossentropy',\n",
    "              optimizer='rmsprop',\n",
    "              metrics=['acc'])"
   ]
  },
  {
   "cell_type": "code",
   "execution_count": 27,
   "id": "9ff9e82e",
   "metadata": {},
   "outputs": [
    {
     "name": "stdout",
     "output_type": "stream",
     "text": [
      "Epoch 1/25\n",
      "\n",
      "Epoch 1: val_acc improved from -inf to 0.55550, saving model to best_weights.hdf5\n",
      "500/500 - 164s - loss: 0.6904 - acc: 0.5308 - val_loss: 0.6705 - val_acc: 0.5555 - 164s/epoch - 328ms/step\n",
      "Epoch 2/25\n",
      "\n",
      "Epoch 2: val_acc improved from 0.55550 to 0.56375, saving model to best_weights.hdf5\n",
      "500/500 - 153s - loss: 0.6763 - acc: 0.5675 - val_loss: 0.6582 - val_acc: 0.5638 - 153s/epoch - 306ms/step\n",
      "Epoch 3/25\n",
      "\n",
      "Epoch 3: val_acc improved from 0.56375 to 0.56900, saving model to best_weights.hdf5\n",
      "500/500 - 149s - loss: 0.6512 - acc: 0.5843 - val_loss: 0.6486 - val_acc: 0.5690 - 149s/epoch - 299ms/step\n",
      "Epoch 4/25\n",
      "\n",
      "Epoch 4: val_acc improved from 0.56900 to 0.59975, saving model to best_weights.hdf5\n",
      "500/500 - 155s - loss: 0.6384 - acc: 0.6083 - val_loss: 0.6410 - val_acc: 0.5997 - 155s/epoch - 310ms/step\n",
      "Epoch 5/25\n",
      "\n",
      "Epoch 5: val_acc did not improve from 0.59975\n",
      "500/500 - 179s - loss: 0.6237 - acc: 0.6198 - val_loss: 0.6487 - val_acc: 0.5900 - 179s/epoch - 358ms/step\n",
      "Epoch 6/25\n",
      "\n",
      "Epoch 6: val_acc did not improve from 0.59975\n",
      "500/500 - 154s - loss: 0.6493 - acc: 0.6098 - val_loss: 0.6678 - val_acc: 0.5705 - 154s/epoch - 308ms/step\n",
      "Epoch 7/25\n",
      "\n",
      "Epoch 7: val_acc improved from 0.59975 to 0.60275, saving model to best_weights.hdf5\n",
      "500/500 - 165s - loss: 0.6015 - acc: 0.6451 - val_loss: 0.6593 - val_acc: 0.6028 - 165s/epoch - 331ms/step\n",
      "Epoch 8/25\n",
      "\n",
      "Epoch 8: val_acc did not improve from 0.60275\n",
      "500/500 - 169s - loss: 0.5754 - acc: 0.6640 - val_loss: 0.6487 - val_acc: 0.5935 - 169s/epoch - 339ms/step\n",
      "Epoch 9/25\n",
      "\n",
      "Epoch 9: val_acc improved from 0.60275 to 0.60600, saving model to best_weights.hdf5\n",
      "500/500 - 178s - loss: 0.5509 - acc: 0.6846 - val_loss: 0.6469 - val_acc: 0.6060 - 178s/epoch - 357ms/step\n",
      "Epoch 10/25\n",
      "\n",
      "Epoch 10: val_acc improved from 0.60600 to 0.60650, saving model to best_weights.hdf5\n",
      "500/500 - 179s - loss: 0.5193 - acc: 0.7067 - val_loss: 0.6906 - val_acc: 0.6065 - 179s/epoch - 359ms/step\n",
      "Epoch 11/25\n",
      "\n",
      "Epoch 11: val_acc improved from 0.60650 to 0.61700, saving model to best_weights.hdf5\n",
      "500/500 - 179s - loss: 0.4892 - acc: 0.7339 - val_loss: 0.6987 - val_acc: 0.6170 - 179s/epoch - 358ms/step\n",
      "Epoch 12/25\n",
      "\n",
      "Epoch 12: val_acc did not improve from 0.61700\n",
      "500/500 - 184s - loss: 0.4576 - acc: 0.7467 - val_loss: 0.7671 - val_acc: 0.6065 - 184s/epoch - 367ms/step\n",
      "Epoch 13/25\n",
      "\n",
      "Epoch 13: val_acc did not improve from 0.61700\n",
      "500/500 - 180s - loss: 0.4234 - acc: 0.7710 - val_loss: 0.8194 - val_acc: 0.6085 - 180s/epoch - 360ms/step\n",
      "Epoch 14/25\n",
      "\n",
      "Epoch 14: val_acc improved from 0.61700 to 0.61900, saving model to best_weights.hdf5\n",
      "500/500 - 163s - loss: 0.3945 - acc: 0.7918 - val_loss: 0.8190 - val_acc: 0.6190 - 163s/epoch - 326ms/step\n",
      "Epoch 15/25\n",
      "\n",
      "Epoch 15: val_acc improved from 0.61900 to 0.62025, saving model to best_weights.hdf5\n",
      "500/500 - 173s - loss: 0.3613 - acc: 0.8143 - val_loss: 0.8734 - val_acc: 0.6202 - 173s/epoch - 345ms/step\n",
      "Epoch 16/25\n",
      "\n",
      "Epoch 16: val_acc did not improve from 0.62025\n",
      "500/500 - 165s - loss: 0.3309 - acc: 0.8244 - val_loss: 0.9569 - val_acc: 0.6175 - 165s/epoch - 330ms/step\n",
      "Epoch 17/25\n",
      "\n",
      "Epoch 17: val_acc did not improve from 0.62025\n",
      "500/500 - 176s - loss: 0.3031 - acc: 0.8427 - val_loss: 1.1062 - val_acc: 0.6170 - 176s/epoch - 352ms/step\n",
      "Epoch 18/25\n",
      "\n",
      "Epoch 18: val_acc did not improve from 0.62025\n",
      "500/500 - 165s - loss: 0.2843 - acc: 0.8563 - val_loss: 1.0983 - val_acc: 0.6162 - 165s/epoch - 329ms/step\n",
      "Epoch 19/25\n",
      "\n",
      "Epoch 19: val_acc did not improve from 0.62025\n",
      "500/500 - 166s - loss: 0.2503 - acc: 0.8698 - val_loss: 1.2418 - val_acc: 0.6085 - 166s/epoch - 332ms/step\n",
      "Epoch 20/25\n",
      "\n",
      "Epoch 20: val_acc did not improve from 0.62025\n",
      "500/500 - 169s - loss: 0.2302 - acc: 0.8836 - val_loss: 1.2572 - val_acc: 0.6112 - 169s/epoch - 338ms/step\n",
      "Epoch 21/25\n",
      "\n",
      "Epoch 21: val_acc did not improve from 0.62025\n",
      "500/500 - 172s - loss: 0.2110 - acc: 0.8932 - val_loss: 1.3407 - val_acc: 0.6170 - 172s/epoch - 344ms/step\n",
      "Epoch 22/25\n",
      "\n",
      "Epoch 22: val_acc did not improve from 0.62025\n",
      "500/500 - 159s - loss: 0.1970 - acc: 0.9003 - val_loss: 1.5407 - val_acc: 0.6105 - 159s/epoch - 319ms/step\n",
      "Epoch 23/25\n",
      "\n",
      "Epoch 23: val_acc did not improve from 0.62025\n",
      "500/500 - 159s - loss: 0.1790 - acc: 0.9091 - val_loss: 1.5993 - val_acc: 0.6115 - 159s/epoch - 318ms/step\n",
      "Epoch 24/25\n",
      "\n",
      "Epoch 24: val_acc did not improve from 0.62025\n",
      "500/500 - 154s - loss: 0.1720 - acc: 0.9121 - val_loss: 1.4168 - val_acc: 0.6143 - 154s/epoch - 308ms/step\n",
      "Epoch 25/25\n",
      "\n",
      "Epoch 25: val_acc did not improve from 0.62025\n",
      "500/500 - 154s - loss: 0.1558 - acc: 0.9199 - val_loss: 1.7642 - val_acc: 0.6168 - 154s/epoch - 308ms/step\n"
     ]
    }
   ],
   "source": [
    "#fitting the built model\n",
    "\n",
    "from tensorflow.keras.callbacks import EarlyStopping, ModelCheckpoint\n",
    "\n",
    "checkpoint = ModelCheckpoint(\"best_weights.hdf5\", monitor='val_acc', verbose=1, save_best_only=True, mode='max')\n",
    "earlystopping = EarlyStopping(patience=4, monitor='acc')\n",
    "callbacks = [earlystopping, checkpoint]\n",
    "\n",
    "model.fit(x_train, y_train,\n",
    "          batch_size=32,\n",
    "          epochs=25,\n",
    "          validation_data=(x_val, y_val),\n",
    "          callbacks=callbacks,\n",
    "          verbose=2)\n",
    "\n",
    "model.load_weights(\"best_weights.hdf5\")"
   ]
  },
  {
   "cell_type": "code",
   "execution_count": 30,
   "id": "feecdf17",
   "metadata": {},
   "outputs": [],
   "source": [
    "#function to predict the mental state of a user based on manual input\n",
    "\n",
    "def predict_tweet(text_to_predict):\n",
    "    classes_index = ['Depressed', 'Not depressed']\n",
    "    test_sequence = tokenizer.texts_to_sequences([text_to_predict])\n",
    "    test_data = pad_sequences(test_sequence, maxlen=MAX_SEQUENCE_LENGTH)\n",
    "    predictions = model.predict(test_data)\n",
    "    prediction = np.argmax(predictions)\n",
    "    print(prediction)\n",
    "    print(\"The person who tweeted this is {}\\n\".format(classes_index[prediction]))\n",
    "  "
   ]
  },
  {
   "cell_type": "code",
   "execution_count": 31,
   "id": "472cf190",
   "metadata": {
    "scrolled": true
   },
   "outputs": [
    {
     "name": "stdout",
     "output_type": "stream",
     "text": [
      "1/1 [==============================] - 0s 37ms/step\n",
      "0\n",
      "The person who tweeted this is Depressed\n",
      "\n"
     ]
    }
   ],
   "source": [
    "predict_tweet(\"i am loser i am a mess i am a hater\")"
   ]
  },
  {
   "cell_type": "code",
   "execution_count": null,
   "id": "463b52ba",
   "metadata": {},
   "outputs": [],
   "source": []
  }
 ],
 "metadata": {
  "kernelspec": {
   "display_name": "Python 3 (ipykernel)",
   "language": "python",
   "name": "python3"
  },
  "language_info": {
   "codemirror_mode": {
    "name": "ipython",
    "version": 3
   },
   "file_extension": ".py",
   "mimetype": "text/x-python",
   "name": "python",
   "nbconvert_exporter": "python",
   "pygments_lexer": "ipython3",
   "version": "3.9.7"
  }
 },
 "nbformat": 4,
 "nbformat_minor": 5
}
